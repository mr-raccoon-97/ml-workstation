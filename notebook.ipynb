{
 "cells": [
  {
   "cell_type": "code",
   "execution_count": 1,
   "metadata": {},
   "outputs": [
    {
     "data": {
      "text/plain": [
       "[Experiment(id='c542704e-3255-42ca-bf78-22a55846b3d0', name='tests')]"
      ]
     },
     "execution_count": 1,
     "metadata": {},
     "output_type": "execute_result"
    }
   ],
   "source": [
    "from workstation.remote.adapters import Experiments\n",
    "\n",
    "experiments = Experiments()\n",
    "experiments.list()"
   ]
  },
  {
   "cell_type": "code",
   "execution_count": null,
   "metadata": {},
   "outputs": [],
   "source": [
    "from workstation.remote.adapters import Models\n",
    "experiment = experiments.get('tests')\n",
    "models = Models(experiment)\n",
    "\n"
   ]
  },
  {
   "cell_type": "code",
   "execution_count": 6,
   "metadata": {},
   "outputs": [
    {
     "name": "stdout",
     "output_type": "stream",
     "text": [
      "[{'name': 'loss', 'phase': 'train', 'batch': 1875, 'epoch': 1, 'value': 0.23096915978888646}, {'name': 'accuracy', 'phase': 'train', 'batch': 1875, 'epoch': 1, 'value': 0.9296166666666666}, {'name': 'loss', 'phase': 'evaluation', 'batch': 313, 'epoch': 1, 'value': 0.12367820694518906}, {'name': 'accuracy', 'phase': 'evaluation', 'batch': 313, 'epoch': 1, 'value': 0.9634584664536742}, {'name': 'loss', 'phase': 'train', 'batch': 1875, 'epoch': 2, 'value': 0.11774291697715719}, {'name': 'accuracy', 'phase': 'train', 'batch': 1875, 'epoch': 2, 'value': 0.9635666666666667}, {'name': 'loss', 'phase': 'evaluation', 'batch': 313, 'epoch': 2, 'value': 0.09054074070777904}, {'name': 'accuracy', 'phase': 'evaluation', 'batch': 313, 'epoch': 2, 'value': 0.9711461661341853}, {'name': 'loss', 'phase': 'train', 'batch': 1875, 'epoch': 3, 'value': 0.09123038536986953}, {'name': 'accuracy', 'phase': 'train', 'batch': 1875, 'epoch': 3, 'value': 0.9713833333333334}, {'name': 'loss', 'phase': 'evaluation', 'batch': 313, 'epoch': 3, 'value': 0.08510575162729822}, {'name': 'accuracy', 'phase': 'evaluation', 'batch': 313, 'epoch': 3, 'value': 0.9745407348242812}, {'name': 'loss', 'phase': 'train', 'batch': 1875, 'epoch': 4, 'value': 0.0786662423510724}, {'name': 'accuracy', 'phase': 'train', 'batch': 1875, 'epoch': 4, 'value': 0.9746666666666667}, {'name': 'loss', 'phase': 'evaluation', 'batch': 313, 'epoch': 4, 'value': 0.07759546555493672}, {'name': 'accuracy', 'phase': 'evaluation', 'batch': 313, 'epoch': 4, 'value': 0.9772364217252396}, {'name': 'loss', 'phase': 'train', 'batch': 1875, 'epoch': 5, 'value': 0.06687887559865306}, {'name': 'accuracy', 'phase': 'train', 'batch': 1875, 'epoch': 5, 'value': 0.97865}, {'name': 'loss', 'phase': 'evaluation', 'batch': 313, 'epoch': 5, 'value': 0.07757471235343548}, {'name': 'accuracy', 'phase': 'evaluation', 'batch': 313, 'epoch': 5, 'value': 0.9767372204472844}, {'name': 'loss', 'phase': 'train', 'batch': 1875, 'epoch': 6, 'value': 0.058755139275322034}, {'name': 'accuracy', 'phase': 'train', 'batch': 1875, 'epoch': 6, 'value': 0.98085}, {'name': 'loss', 'phase': 'evaluation', 'batch': 313, 'epoch': 6, 'value': 0.08035773221740565}, {'name': 'accuracy', 'phase': 'evaluation', 'batch': 313, 'epoch': 6, 'value': 0.9787340255591054}, {'name': 'loss', 'phase': 'train', 'batch': 1875, 'epoch': 7, 'value': 0.05523206859419199}, {'name': 'accuracy', 'phase': 'train', 'batch': 1875, 'epoch': 7, 'value': 0.98155}, {'name': 'loss', 'phase': 'evaluation', 'batch': 313, 'epoch': 7, 'value': 0.07984270913385873}, {'name': 'accuracy', 'phase': 'evaluation', 'batch': 313, 'epoch': 7, 'value': 0.9788338658146964}, {'name': 'loss', 'phase': 'train', 'batch': 1875, 'epoch': 8, 'value': 0.0499429798979778}, {'name': 'accuracy', 'phase': 'train', 'batch': 1875, 'epoch': 8, 'value': 0.9834333333333334}, {'name': 'loss', 'phase': 'evaluation', 'batch': 313, 'epoch': 8, 'value': 0.0763270684381688}, {'name': 'accuracy', 'phase': 'evaluation', 'batch': 313, 'epoch': 8, 'value': 0.9792332268370607}, {'name': 'loss', 'phase': 'train', 'batch': 1875, 'epoch': 9, 'value': 0.04687918302068526}, {'name': 'accuracy', 'phase': 'train', 'batch': 1875, 'epoch': 9, 'value': 0.9852833333333333}, {'name': 'loss', 'phase': 'evaluation', 'batch': 313, 'epoch': 9, 'value': 0.08861295920019341}, {'name': 'accuracy', 'phase': 'evaluation', 'batch': 313, 'epoch': 9, 'value': 0.9793330670926518}, {'name': 'loss', 'phase': 'train', 'batch': 1875, 'epoch': 10, 'value': 0.044153623412754146}, {'name': 'accuracy', 'phase': 'train', 'batch': 1875, 'epoch': 10, 'value': 0.9851666666666666}, {'name': 'loss', 'phase': 'evaluation', 'batch': 313, 'epoch': 10, 'value': 0.08744191567338365}, {'name': 'accuracy', 'phase': 'evaluation', 'batch': 313, 'epoch': 10, 'value': 0.9778354632587859}, {'name': 'loss', 'phase': 'train', 'batch': 1875, 'epoch': 11, 'value': 0.04036197626412225}, {'name': 'accuracy', 'phase': 'train', 'batch': 1875, 'epoch': 11, 'value': 0.9867333333333334}, {'name': 'loss', 'phase': 'evaluation', 'batch': 313, 'epoch': 11, 'value': 0.10053392147458493}, {'name': 'accuracy', 'phase': 'evaluation', 'batch': 313, 'epoch': 11, 'value': 0.978035143769968}, {'name': 'loss', 'phase': 'train', 'batch': 1875, 'epoch': 12, 'value': 0.039329828429279796}, {'name': 'accuracy', 'phase': 'train', 'batch': 1875, 'epoch': 12, 'value': 0.9878833333333333}, {'name': 'loss', 'phase': 'evaluation', 'batch': 313, 'epoch': 12, 'value': 0.09383461722363773}, {'name': 'accuracy', 'phase': 'evaluation', 'batch': 313, 'epoch': 12, 'value': 0.9792332268370607}, {'name': 'loss', 'phase': 'train', 'batch': 1875, 'epoch': 13, 'value': 0.038670794642195236}, {'name': 'accuracy', 'phase': 'train', 'batch': 1875, 'epoch': 13, 'value': 0.9876833333333334}, {'name': 'loss', 'phase': 'evaluation', 'batch': 313, 'epoch': 13, 'value': 0.09521358125163322}, {'name': 'accuracy', 'phase': 'evaluation', 'batch': 313, 'epoch': 13, 'value': 0.9793330670926518}, {'name': 'loss', 'phase': 'train', 'batch': 1875, 'epoch': 14, 'value': 0.03711645648270117}, {'name': 'accuracy', 'phase': 'train', 'batch': 1875, 'epoch': 14, 'value': 0.9881666666666666}, {'name': 'loss', 'phase': 'evaluation', 'batch': 313, 'epoch': 14, 'value': 0.09644594973088365}, {'name': 'accuracy', 'phase': 'evaluation', 'batch': 313, 'epoch': 14, 'value': 0.9803314696485623}, {'name': 'loss', 'phase': 'train', 'batch': 1875, 'epoch': 15, 'value': 0.034803733176475025}, {'name': 'accuracy', 'phase': 'train', 'batch': 1875, 'epoch': 15, 'value': 0.9892666666666666}, {'name': 'loss', 'phase': 'evaluation', 'batch': 313, 'epoch': 15, 'value': 0.0959356869868123}, {'name': 'accuracy', 'phase': 'evaluation', 'batch': 313, 'epoch': 15, 'value': 0.981529552715655}, {'name': 'loss', 'phase': 'train', 'batch': 1875, 'epoch': 16, 'value': 0.03275923899296036}, {'name': 'accuracy', 'phase': 'train', 'batch': 1875, 'epoch': 16, 'value': 0.9894833333333334}, {'name': 'loss', 'phase': 'evaluation', 'batch': 313, 'epoch': 16, 'value': 0.09957557926964333}, {'name': 'accuracy', 'phase': 'evaluation', 'batch': 313, 'epoch': 16, 'value': 0.9801317891373802}, {'name': 'loss', 'phase': 'train', 'batch': 1875, 'epoch': 17, 'value': 0.034232829698513066}, {'name': 'accuracy', 'phase': 'train', 'batch': 1875, 'epoch': 17, 'value': 0.9893333333333333}, {'name': 'loss', 'phase': 'evaluation', 'batch': 313, 'epoch': 17, 'value': 0.11016554625334034}, {'name': 'accuracy', 'phase': 'evaluation', 'batch': 313, 'epoch': 17, 'value': 0.9801317891373802}, {'name': 'loss', 'phase': 'train', 'batch': 1875, 'epoch': 18, 'value': 0.034137527781260675}, {'name': 'accuracy', 'phase': 'train', 'batch': 1875, 'epoch': 18, 'value': 0.9899}, {'name': 'loss', 'phase': 'evaluation', 'batch': 313, 'epoch': 18, 'value': 0.09972908734980433}, {'name': 'accuracy', 'phase': 'evaluation', 'batch': 313, 'epoch': 18, 'value': 0.981629392971246}, {'name': 'loss', 'phase': 'train', 'batch': 1875, 'epoch': 19, 'value': 0.029517226082761687}, {'name': 'accuracy', 'phase': 'train', 'batch': 1875, 'epoch': 19, 'value': 0.9909}, {'name': 'loss', 'phase': 'evaluation', 'batch': 313, 'epoch': 19, 'value': 0.099453746502209}, {'name': 'accuracy', 'phase': 'evaluation', 'batch': 313, 'epoch': 19, 'value': 0.9818290734824281}, {'name': 'loss', 'phase': 'train', 'batch': 1875, 'epoch': 20, 'value': 0.030766095475697454}, {'name': 'accuracy', 'phase': 'train', 'batch': 1875, 'epoch': 20, 'value': 0.9906166666666667}, {'name': 'loss', 'phase': 'evaluation', 'batch': 313, 'epoch': 20, 'value': 0.11339492921593018}, {'name': 'accuracy', 'phase': 'evaluation', 'batch': 313, 'epoch': 20, 'value': 0.979632587859425}]\n"
     ]
    }
   ],
   "source": [
    "from requests import get\n",
    "\n",
    "response = get(f'http://0.0.0.0:8000/models/{\"106fd946-802c-468a-b3a0-2827dfb17fde\"}/metrics/')\n",
    "print(response.json())"
   ]
  },
  {
   "cell_type": "code",
   "execution_count": 7,
   "metadata": {},
   "outputs": [
    {
     "name": "stdout",
     "output_type": "stream",
     "text": [
      "1 train\n",
      "1 train\n",
      "1 evaluation\n",
      "1 evaluation\n",
      "2 train\n",
      "2 train\n",
      "2 evaluation\n",
      "2 evaluation\n",
      "3 train\n",
      "3 train\n",
      "3 evaluation\n",
      "3 evaluation\n",
      "4 train\n",
      "4 train\n",
      "4 evaluation\n",
      "4 evaluation\n",
      "5 train\n",
      "5 train\n",
      "5 evaluation\n",
      "5 evaluation\n",
      "6 train\n",
      "6 train\n",
      "6 evaluation\n",
      "6 evaluation\n",
      "7 train\n",
      "7 train\n",
      "7 evaluation\n",
      "7 evaluation\n",
      "8 train\n",
      "8 train\n",
      "8 evaluation\n",
      "8 evaluation\n",
      "9 train\n",
      "9 train\n",
      "9 evaluation\n",
      "9 evaluation\n",
      "10 train\n",
      "10 train\n",
      "10 evaluation\n",
      "10 evaluation\n",
      "11 train\n",
      "11 train\n",
      "11 evaluation\n",
      "11 evaluation\n",
      "12 train\n",
      "12 train\n",
      "12 evaluation\n",
      "12 evaluation\n",
      "13 train\n",
      "13 train\n",
      "13 evaluation\n",
      "13 evaluation\n",
      "14 train\n",
      "14 train\n",
      "14 evaluation\n",
      "14 evaluation\n",
      "15 train\n",
      "15 train\n",
      "15 evaluation\n",
      "15 evaluation\n",
      "16 train\n",
      "16 train\n",
      "16 evaluation\n",
      "16 evaluation\n",
      "17 train\n",
      "17 train\n",
      "17 evaluation\n",
      "17 evaluation\n",
      "18 train\n",
      "18 train\n",
      "18 evaluation\n",
      "18 evaluation\n",
      "19 train\n",
      "19 train\n",
      "19 evaluation\n",
      "19 evaluation\n",
      "20 train\n",
      "20 train\n",
      "20 evaluation\n",
      "20 evaluation\n"
     ]
    }
   ],
   "source": [
    "\n",
    "for metric in response.json():\n",
    "    print(metric['epoch'], metric['phase'])"
   ]
  },
  {
   "cell_type": "code",
   "execution_count": null,
   "metadata": {},
   "outputs": [],
   "source": []
  }
 ],
 "metadata": {
  "kernelspec": {
   "display_name": "Python 3",
   "language": "python",
   "name": "python3"
  },
  "language_info": {
   "codemirror_mode": {
    "name": "ipython",
    "version": 3
   },
   "file_extension": ".py",
   "mimetype": "text/x-python",
   "name": "python",
   "nbconvert_exporter": "python",
   "pygments_lexer": "ipython3",
   "version": "3.12.2"
  }
 },
 "nbformat": 4,
 "nbformat_minor": 2
}
