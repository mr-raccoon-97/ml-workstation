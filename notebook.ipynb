{
 "cells": [
  {
   "cell_type": "code",
   "execution_count": 1,
   "metadata": {},
   "outputs": [
    {
     "data": {
      "text/plain": [
       "examples.datasets.mnist.Digits"
      ]
     },
     "execution_count": 1,
     "metadata": {},
     "output_type": "execute_result"
    }
   ],
   "source": [
    "from torch.nn import CrossEntropyLoss\n",
    "from torch.optim import Adam\n",
    "from examples.models.perceptrons import MLP, GLU\n",
    "from examples.datasets.mnist import Digits\n",
    "from workstation.session import Session\n",
    "from workstation.publisher import Publisher\n",
    "from workstation.pytorch import Repository, Loaders, Compiler\n",
    "from workstation.pytorch.callbacks import Callback, Accuracy, Loss\n",
    "from workstation.remote.consumer import RabbitMQ\n",
    "from workstation.defaults.consumer import Consumer as DefaultConsumer\n",
    "from logging import basicConfig, INFO\n",
    "\n",
    "basicConfig(level=INFO)\n",
    "\n",
    "Repository.models.register(MLP)\n",
    "Repository.models.register(GLU)\n",
    "Repository.optimizers.register(Adam)\n",
    "Repository.criterions.register(CrossEntropyLoss)\n",
    "Repository.datasets.register(Digits)"
   ]
  },
  {
   "cell_type": "code",
   "execution_count": 2,
   "metadata": {},
   "outputs": [
    {
     "name": "stdout",
     "output_type": "stream",
     "text": [
      "[(UUID('0bdea1df-b8ba-3fc2-84dc-89d4a3aee221'), 'MLP', {'input_dimension': 'int', 'hidden_dimension': 'int', 'output_dimension': 'int', 'p': 'float', 'activation': 'str'}), (UUID('083b6f09-df3c-30fa-b9c8-cb7755474fb7'), 'GLU', {'input_dimension': 'int', 'hidden_dimension': 'int', 'output_dimension': 'int', 'p': 'float', 'activation': 'str'})]\n"
     ]
    }
   ],
   "source": [
    "repository = Repository()\n",
    "print(repository.models.list())"
   ]
  }
 ],
 "metadata": {
  "kernelspec": {
   "display_name": "Python 3",
   "language": "python",
   "name": "python3"
  },
  "language_info": {
   "codemirror_mode": {
    "name": "ipython",
    "version": 3
   },
   "file_extension": ".py",
   "mimetype": "text/x-python",
   "name": "python",
   "nbconvert_exporter": "python",
   "pygments_lexer": "ipython3",
   "version": "3.12.2"
  }
 },
 "nbformat": 4,
 "nbformat_minor": 2
}
